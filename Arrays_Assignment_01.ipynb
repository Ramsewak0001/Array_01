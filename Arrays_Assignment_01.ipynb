{
 "cells": [
  {
   "cell_type": "code",
   "execution_count": null,
   "id": "14f90924-43d6-4cc4-b12b-52d76d5494b9",
   "metadata": {},
   "outputs": [],
   "source": [
    "\n",
    "Q1. Given an array of integers nums and an integer target, return indices of the two numbers such that they add up to target.\n",
    "You may assume that each input would have exactly one solution, and you may not use the same element twice.\n",
    "You can return the answer in any order.\n",
    "Example:\n",
    "Input: nums = [2,7,11,15], target = 9\n",
    "Output0 [0,1]\n",
    "\n",
    "Explanation: Because nums[0] + nums[1] == 9, we return [0, 1]"
   ]
  },
  {
   "cell_type": "code",
   "execution_count": 1,
   "id": "d886ae6c-979b-4713-911a-19b925114705",
   "metadata": {},
   "outputs": [],
   "source": [
    "class Solution:\n",
    "    def __init__(self,l,target):\n",
    "        self.l = l\n",
    "        self.target = target\n",
    "        \n",
    "    def two_sums(self):\n",
    "        dict_values = {}\n",
    "        for index , value in enumerate(self.l):\n",
    "            required_num = self.target - value\n",
    "            if required_num in dict_values:\n",
    "                return [dict_values[required_num],index]\n",
    "            else :\n",
    "                dict_values[value] = index\n",
    "        return []\n"
   ]
  },
  {
   "cell_type": "code",
   "execution_count": 2,
   "id": "03b22237-3a02-40bb-b539-3e70b290ef25",
   "metadata": {},
   "outputs": [],
   "source": [
    "l =[2,7,11,15]\n",
    "tar = 9\n",
    "obj= Solution(l,tar)"
   ]
  },
  {
   "cell_type": "code",
   "execution_count": 3,
   "id": "68471d3f-bdd7-4ec8-a5d4-39ea6d7e3429",
   "metadata": {},
   "outputs": [
    {
     "name": "stdout",
     "output_type": "stream",
     "text": [
      "[0, 1]\n"
     ]
    }
   ],
   "source": [
    "index = obj.two_sums()\n",
    "print(index)"
   ]
  },
  {
   "cell_type": "code",
   "execution_count": null,
   "id": "bdd61cef-94f1-4bfc-8e3a-7eb8edcfa653",
   "metadata": {},
   "outputs": [],
   "source": [
    "Q2. Given an integer array nums and an integer val, remove all occurrences of val in nums in-place. The order of the elements may be changed. Then return the number of elements in nums which are not equal to val.\n",
    "Consider the number of elements in nums which are not equal to val be k, to get accepted, you need to do the following things:\n",
    "- Change the array nums such that the first k elements of nums contain the elements which are not equal to val. The remaining elements of nums are not important as well as the size of nums.\n",
    "- Return k.\n",
    "Example :\n",
    "Input: nums = [3,2,2,3], val = 3\n",
    "Output: 2, nums = [2,2,_,_]\n",
    "\n",
    "Explanation: Your function should return k = 2, with the first two elements of nums being 2. It does not matter what you leave beyond the returned k (hence they are underscores)["
   ]
  },
  {
   "cell_type": "code",
   "execution_count": 35,
   "id": "92453038-d5eb-40f8-971c-2cff129a07f4",
   "metadata": {},
   "outputs": [],
   "source": [
    "class Solution:\n",
    "    def __init__(self,l,val):\n",
    "        self.l = l\n",
    "        self.val = val\n",
    "    def function(self):\n",
    "        k= 0\n",
    "        for i in range(len(self.l)):\n",
    "            if l[i]!= self.val :\n",
    "                self.l[k]=self.l[i]\n",
    "                self.l[i]=\"_\"\n",
    "                k +=1\n",
    "            else :\n",
    "                self.l[i]=\"_\"\n",
    "            \n",
    "        return k,\"nums = \"+str(self.l)"
   ]
  },
  {
   "cell_type": "code",
   "execution_count": 36,
   "id": "df8cf9c4-22a6-4ddc-a91a-eef2ad8e5616",
   "metadata": {},
   "outputs": [],
   "source": [
    "l = [3,2,2,3]\n",
    "val = 3\n",
    "obj= Solution(l,val)"
   ]
  },
  {
   "cell_type": "code",
   "execution_count": 37,
   "id": "18a9c990-9ea4-422a-93ae-4a677cf4256e",
   "metadata": {},
   "outputs": [
    {
     "data": {
      "text/plain": [
       "(2, \"nums = [2, 2, '_', '_']\")"
      ]
     },
     "execution_count": 37,
     "metadata": {},
     "output_type": "execute_result"
    }
   ],
   "source": [
    "obj.function()"
   ]
  },
  {
   "cell_type": "code",
   "execution_count": 12,
   "id": "07b46a5a-e3f8-4303-9bdc-4d0dfade9f58",
   "metadata": {},
   "outputs": [],
   "source": [
    "Q3.Given a sorted array of distinct integers and a target value, return the index if the target is found. If not, return the index where it would be if it were inserted in order.\n",
    "You must write an algorithm with O(log n) runtime complexity.\n",
    "\n",
    "Example 1:\n",
    "Input: nums = [1,3,5,6], target = 5\n",
    "\n",
    "Output: 2"
   ]
  },
  {
   "cell_type": "code",
   "execution_count": 43,
   "id": "5075159f-10f3-437d-b760-93752971a756",
   "metadata": {},
   "outputs": [],
   "source": [
    " class Solution:\n",
    "        def __init__(self,l,target):\n",
    "            self.l=l\n",
    "            self.target=target\n",
    "        def function(self):\n",
    "            left = 0\n",
    "            right = len(self.l)-1\n",
    "            \n",
    "            while left<=right:\n",
    "                mid = left + (right-left)//2\n",
    "                if self.l[mid]==target:\n",
    "                    return mid\n",
    "                elif self.l[mid]<target:\n",
    "                    left = mid+1\n",
    "                else:\n",
    "                    right = mid-1"
   ]
  },
  {
   "cell_type": "code",
   "execution_count": 44,
   "id": "bd0f624c-66be-412f-84f2-345b4ed52ca9",
   "metadata": {},
   "outputs": [],
   "source": [
    "nums = [1,3,5,6]\n",
    "target = 5\n",
    "obj=Solution(nums,target)"
   ]
  },
  {
   "cell_type": "code",
   "execution_count": 45,
   "id": "255fa5be-4f20-4a7b-b1f9-ba9b29def74c",
   "metadata": {},
   "outputs": [
    {
     "data": {
      "text/plain": [
       "2"
      ]
     },
     "execution_count": 45,
     "metadata": {},
     "output_type": "execute_result"
    }
   ],
   "source": [
    "obj.function()"
   ]
  },
  {
   "cell_type": "code",
   "execution_count": null,
   "id": "f45af66d-584c-4eba-a380-77f630041d1d",
   "metadata": {},
   "outputs": [],
   "source": [
    "Q4. You are given a large integer represented as an integer array digits, where each digits[i] is the ith digit of the integer. The digits are ordered from most significant to least significant in left-to-right order. The large integer does not contain any leading 0's.\n",
    "Increment the large integer by one and return the resulting array of digits.\n",
    "Example 1:\n",
    "Input: digits = [1,2,3]\n",
    "Output: [1,2,4]\n",
    "\n",
    "Explanation: The array represents the integer 123.\n",
    "\n",
    "Incrementing by one gives 123 + 1 = 124.\n",
    "Thus, the result should be [1,2,4]."
   ]
  },
  {
   "cell_type": "code",
   "execution_count": 76,
   "id": "aa4612dd-e3e2-4aa2-8ec2-b7dd9a59ef08",
   "metadata": {},
   "outputs": [],
   "source": [
    "class Solution:\n",
    "    def __init__(self,l):\n",
    "        self.l=l\n",
    "    def function(self):\n",
    "        index = len(self.l)-1\n",
    "        while index>=0:\n",
    "            if self.l[index]==9:\n",
    "                self.l[index]=0\n",
    "            else :\n",
    "                self.l[index] +=1\n",
    "                return self.l\n",
    "            index -= 1\n",
    "        self.l.insert(0,1)\n",
    "        return self.l"
   ]
  },
  {
   "cell_type": "code",
   "execution_count": 83,
   "id": "ba5db00c-6c4f-451b-a29f-dc4d1a133d55",
   "metadata": {},
   "outputs": [],
   "source": [
    "digits = [1,2,3]\n",
    "obj = Solution(digits)"
   ]
  },
  {
   "cell_type": "code",
   "execution_count": 84,
   "id": "8d359936-e822-427e-865d-4ff94c2c3a7f",
   "metadata": {},
   "outputs": [
    {
     "data": {
      "text/plain": [
       "[1, 2, 4]"
      ]
     },
     "execution_count": 84,
     "metadata": {},
     "output_type": "execute_result"
    }
   ],
   "source": [
    "obj.function()"
   ]
  },
  {
   "cell_type": "code",
   "execution_count": null,
   "id": "89991b62-7219-4aff-a90f-32abf99521bf",
   "metadata": {},
   "outputs": [],
   "source": [
    "Q5. You are given two integer arrays nums1 and nums2, sorted in non-decreasing order, and two integers m and n, representing the number of elements in nums1 and nums2 respectively.\n",
    "Merge nums1 and nums2 into a single array sorted in non-decreasing order.\n",
    "The final sorted array should not be returned by the function, but instead be stored inside the array nums1. To accommodate this, nums1 has a length of m + n, where the first m elements denote the elements that should be merged, and the last n elements are set to 0 and should be ignored. nums2 has a length of n.\n",
    "\n",
    "Example 1:\n",
    "Input: nums1 = [1,2,3,0,0,0], m = 3, nums2 = [2,5,6], n = 3\n",
    "Output: [1,2,2,3,5,6]\n",
    "\n",
    "Explanation: The arrays we are merging are [1,2,3] and [2,5,6].\n",
    "The result of the merge is [1,2,2,3,5,6] with the underlined elements coming from nums1."
   ]
  },
  {
   "cell_type": "code",
   "execution_count": 121,
   "id": "a2672bcc-02a9-4c55-8fac-95f7ea404cab",
   "metadata": {},
   "outputs": [],
   "source": [
    "class Solution:\n",
    "    def __init__(self,l1,l2,m,n):\n",
    "        self.l1=l1\n",
    "        self.l2 = l2\n",
    "        self.m=m\n",
    "        self.n=n\n",
    "    def function(self):\n",
    "        p1 = m-1\n",
    "        p2 = n-1\n",
    "        p = m+n-1\n",
    "        l=[]\n",
    "        while p1>=0 and p2>=0:\n",
    "            if self.l2[p2]>=self.l1[p1]:\n",
    "                self.l1[p] = self.l2[p2]\n",
    "                p -=1\n",
    "                p2 -=1\n",
    "            else :\n",
    "                self.l1[p] = self.l1[p1]\n",
    "                p -=1\n",
    "                p1 -=1\n",
    "                \n",
    "        self.l1[:p2+1] = self.l2[:p2+1]\n",
    "                \n",
    "        return self.l1"
   ]
  },
  {
   "cell_type": "code",
   "execution_count": 122,
   "id": "2734c014-d25d-4f1d-b6f0-16d1ba5d733d",
   "metadata": {},
   "outputs": [],
   "source": [
    "nums1 = [1,2,3,0,0,0]\n",
    "nums2 = [2,5,6]\n",
    "m=3\n",
    "n=3\n",
    "obj=Solution(nums1,nums2,m,n)"
   ]
  },
  {
   "cell_type": "code",
   "execution_count": 123,
   "id": "5d71ce00-2177-444e-9720-264b22da3cef",
   "metadata": {},
   "outputs": [
    {
     "data": {
      "text/plain": [
       "[1, 2, 2, 3, 5, 6]"
      ]
     },
     "execution_count": 123,
     "metadata": {},
     "output_type": "execute_result"
    }
   ],
   "source": [
    "obj.function()"
   ]
  },
  {
   "cell_type": "code",
   "execution_count": null,
   "id": "a05675d6-02cf-4136-a41b-cc86b06ed6c8",
   "metadata": {},
   "outputs": [],
   "source": [
    "Q6. Given an integer array nums, return true if any value appears at least twice in the array, and return false if every element is distinct.\n",
    "\n",
    "Example 1:\n",
    "Input: nums = [1,2,3,1]\n",
    "\n",
    "Output: true"
   ]
  },
  {
   "cell_type": "code",
   "execution_count": 126,
   "id": "0d6f6a4d-bca5-4745-a46f-40396f98aa2a",
   "metadata": {},
   "outputs": [],
   "source": [
    "class Solution:\n",
    "    def __init__(self,l):\n",
    "        self.l = l\n",
    "    def function(self):\n",
    "        hashset = set()\n",
    "        for n in self.l :\n",
    "            if n in hashset:\n",
    "                return True\n",
    "            else:\n",
    "                hashset.add(n)\n",
    "        return False"
   ]
  },
  {
   "cell_type": "code",
   "execution_count": 131,
   "id": "c0541c94-2eba-4c25-927b-eb46dd5cc4a7",
   "metadata": {},
   "outputs": [],
   "source": [
    "nums = [1,2,3,1]\n",
    "obj = Solution(nums)"
   ]
  },
  {
   "cell_type": "code",
   "execution_count": 132,
   "id": "966ca5e0-1881-4b58-815c-f9ff1ea765cd",
   "metadata": {},
   "outputs": [
    {
     "data": {
      "text/plain": [
       "True"
      ]
     },
     "execution_count": 132,
     "metadata": {},
     "output_type": "execute_result"
    }
   ],
   "source": [
    "obj.function()"
   ]
  },
  {
   "cell_type": "code",
   "execution_count": null,
   "id": "33c0509a-8cf6-49e1-9df9-b6187cc14842",
   "metadata": {},
   "outputs": [],
   "source": [
    "Q7. Given an integer array nums, move all 0's to the end of it while maintaining the relative order of the nonzero elements.\n",
    "Note that you must do this in-place without making a copy of the array.\n",
    "Example 1:\n",
    "Input: nums = [0,1,0,3,12]\n",
    "Output: [1,3,12,0,0]"
   ]
  },
  {
   "cell_type": "code",
   "execution_count": 145,
   "id": "c5666e46-b218-4bd7-9d21-1c3047486b8a",
   "metadata": {},
   "outputs": [],
   "source": [
    "class Solution:\n",
    "    def __init__(self,l):\n",
    "        self.l = l\n",
    "    def function(self):\n",
    "        k= 0\n",
    "        for i in range(len(self.l)):\n",
    "            if self.l[i]!= 0 :\n",
    "                self.l[k]=self.l[i]\n",
    "                k +=1\n",
    "        for i in range(k,len(self.l)):\n",
    "            self.l[i]=0\n",
    "            \n",
    "        return self.l"
   ]
  },
  {
   "cell_type": "code",
   "execution_count": 146,
   "id": "ee6bd46f-6e50-455f-b980-0cdfa40a53be",
   "metadata": {},
   "outputs": [],
   "source": [
    "nums = [0,1,0,3,12]\n",
    "obj = Solution(nums)"
   ]
  },
  {
   "cell_type": "code",
   "execution_count": 147,
   "id": "831b5acd-6922-408b-9784-47e7a05d6213",
   "metadata": {},
   "outputs": [
    {
     "data": {
      "text/plain": [
       "[1, 3, 12, 0, 0]"
      ]
     },
     "execution_count": 147,
     "metadata": {},
     "output_type": "execute_result"
    }
   ],
   "source": [
    "obj.function()"
   ]
  },
  {
   "cell_type": "code",
   "execution_count": null,
   "id": "98e163ed-e3ed-49e8-a0d6-406277ab927e",
   "metadata": {},
   "outputs": [],
   "source": [
    "Q8. You have a set of integers s, which originally contains all the numbers from 1 to n. Unfortunately, due to some error, one of the numbers in s got duplicated to another number in the set, which results in repetition of one number and loss of another number.\n",
    "You are given an integer array nums representing the data status of this set after the error.\n",
    "Find the number that occurs twice and the number that is missing and return them in the form of an array.\n",
    "\n",
    "Example 1:\n",
    "Input: nums = [1,2,2,4]\n",
    "Output: [2,3]"
   ]
  },
  {
   "cell_type": "code",
   "execution_count": 167,
   "id": "99158f8e-65a4-4377-ab05-b337f4df7e30",
   "metadata": {},
   "outputs": [],
   "source": [
    "class Solution:\n",
    "    def __init__(self,l):\n",
    "        self.l =l\n",
    "    def function(self):\n",
    "        n = len(self.l)\n",
    "        sn = (n*(n+1))//2\n",
    "        sn2 = (n*(n+1)*(2*n+1))//6\n",
    "        s = sum(self.l)\n",
    "        s2 = sum(map(lambda i : i**2 , self.l))\n",
    "        xy1 = sn-s\n",
    "        xy2 = (sn2-s2)//(sn-s)\n",
    "        x = (xy1 + xy2)//2\n",
    "        y = xy2-x\n",
    "        result = y,x\n",
    "        return list(result)"
   ]
  },
  {
   "cell_type": "code",
   "execution_count": 174,
   "id": "528a3267-0d3d-4c05-99e3-203695ca8d9f",
   "metadata": {},
   "outputs": [],
   "source": [
    "nums = [1,2,2,4]\n",
    "obj = Solution(nums)"
   ]
  },
  {
   "cell_type": "code",
   "execution_count": 175,
   "id": "122e5c36-5d37-41a7-8191-e2d2fa758f59",
   "metadata": {},
   "outputs": [
    {
     "data": {
      "text/plain": [
       "[2, 3]"
      ]
     },
     "execution_count": 175,
     "metadata": {},
     "output_type": "execute_result"
    }
   ],
   "source": [
    "obj.function()"
   ]
  },
  {
   "cell_type": "code",
   "execution_count": null,
   "id": "3fe362b0-bbc9-4c4c-9217-f917b024282b",
   "metadata": {},
   "outputs": [],
   "source": []
  }
 ],
 "metadata": {
  "kernelspec": {
   "display_name": "Python 3 (ipykernel)",
   "language": "python",
   "name": "python3"
  },
  "language_info": {
   "codemirror_mode": {
    "name": "ipython",
    "version": 3
   },
   "file_extension": ".py",
   "mimetype": "text/x-python",
   "name": "python",
   "nbconvert_exporter": "python",
   "pygments_lexer": "ipython3",
   "version": "3.10.8"
  }
 },
 "nbformat": 4,
 "nbformat_minor": 5
}
